{
 "cells": [
  {
   "cell_type": "markdown",
   "metadata": {},
   "source": [
    "# Hunt for perfect model\n",
    "\n",
    "This is file which have my thoughts and content about training neural networks for tictactoe."
   ]
  },
  {
   "cell_type": "code",
   "execution_count": 138,
   "metadata": {},
   "outputs": [],
   "source": [
    "import numpy as np\n",
    "import pickle"
   ]
  },
  {
   "cell_type": "markdown",
   "metadata": {},
   "source": [
    "### General model knowledge\n",
    "model will get 2d numpy array where 1 means bots marks, 0 empty title and -1 the opponents title. For now consider only boards 3x3.\n",
    "As the output of the model should return row, column where to play."
   ]
  },
  {
   "cell_type": "markdown",
   "metadata": {},
   "source": [
    "### Brain of model\n",
    "Brain will consist different parts each part will handle some part of game decision.\n",
    "- First Part will consist where to play to win\n",
    "- Second part will consist where to play to not lose\n",
    "- Third part will consist where to play to have biggest profit on it (strategy)"
   ]
  },
  {
   "cell_type": "markdown",
   "metadata": {},
   "source": [
    "# First Part\n",
    "--------------------------------"
   ]
  },
  {
   "cell_type": "code",
   "execution_count": 139,
   "metadata": {},
   "outputs": [],
   "source": [
    "def check_horizontal(board):\n",
    "    for i, row in enumerate(board):\n",
    "        if np.sum(row)==2:\n",
    "            return np.where(row==0)[0].item(), i\n",
    "        \n",
    "def check_vertical(board):\n",
    "    for i in range(board.shape[1]):\n",
    "        if np.sum(board[:, i]) == 2:\n",
    "            return i, np.where(board[:, i] == 0)[0].item()\n",
    "\n",
    "def check_diagonal(board):\n",
    "    diagonal1 = np.diagonal(board)\n",
    "    if np.sum(diagonal1) == 2:\n",
    "        return np.where(diagonal1 == 0)[0].item(), np.where(diagonal1 == 0)[0].item()\n",
    "    diagonal2 = np.diagonal(np.fliplr(board))\n",
    "    if np.sum(diagonal2) == 2:\n",
    "        return np.where(np.flip(diagonal2) == 0)[0].item(), np.where(diagonal2 == 0)[0].item()"
   ]
  },
  {
   "cell_type": "code",
   "execution_count": 140,
   "metadata": {},
   "outputs": [],
   "source": [
    "def first_part(board):\n",
    "    if check_diagonal(board):\n",
    "        return check_diagonal(board)\n",
    "    if check_horizontal(board):\n",
    "        return check_horizontal(board)\n",
    "    if check_vertical(board):\n",
    "        return check_vertical(board)"
   ]
  },
  {
   "cell_type": "markdown",
   "metadata": {},
   "source": [
    "# Second part - check blocks\n",
    "----------------------------------------------------------------"
   ]
  },
  {
   "cell_type": "code",
   "execution_count": 141,
   "metadata": {},
   "outputs": [],
   "source": [
    "board = np.array([[0,0,0],\n",
    "                  [0,1,0],\n",
    "                  [1,0,0]])"
   ]
  },
  {
   "cell_type": "code",
   "execution_count": 142,
   "metadata": {},
   "outputs": [],
   "source": [
    "def check_block_horizontal(board):\n",
    "    for i, row in enumerate(board):\n",
    "        if np.sum(row)==-2:\n",
    "            return np.where(row==0)[0].item(), i\n",
    "        \n",
    "def check_block_vertical(board):\n",
    "    for i in range(board.shape[1]):\n",
    "        if np.sum(board[:, i]) == -2:\n",
    "            return i, np.where(board[:, i] == 0)[0].item()\n",
    "\n",
    "def check_block_diagonal(board):\n",
    "    diagonal1 = np.diagonal(board)\n",
    "    if np.sum(diagonal1) == -2:\n",
    "        return np.where(diagonal1 == 0)[0].item(), np.where(diagonal1 == 0)[0].item()\n",
    "    diagonal2 = np.diagonal(np.fliplr(board))\n",
    "    if np.sum(diagonal2) == -2:\n",
    "        return np.where(np.flip(diagonal2) == 0)[0].item(), np.where(diagonal2 == 0)[0].item()"
   ]
  },
  {
   "cell_type": "code",
   "execution_count": 143,
   "metadata": {},
   "outputs": [],
   "source": [
    "def second_part(board):\n",
    "    if check_block_diagonal(board):\n",
    "        return check_block_diagonal(board)\n",
    "    if check_block_horizontal(board):\n",
    "        return check_block_horizontal(board)\n",
    "    if check_block_vertical(board):\n",
    "        return check_block_vertical(board)"
   ]
  },
  {
   "cell_type": "markdown",
   "metadata": {},
   "source": [
    "# Model compose\n",
    "----------------------------------------------------------------"
   ]
  },
  {
   "cell_type": "code",
   "execution_count": 146,
   "metadata": {},
   "outputs": [],
   "source": [
    "def load_model(name='model'):\n",
    "    with open(str(name)+'.pkl', 'rb') as load_file:\n",
    "        return pickle.load(load_file)"
   ]
  },
  {
   "cell_type": "code",
   "execution_count": 154,
   "metadata": {},
   "outputs": [],
   "source": [
    "class Model:\n",
    "    def __init__(self, name='model'):\n",
    "        self.name=name\n",
    "\n",
    "    def save(self, name):\n",
    "        with open(str(name)+'.pkl', 'wb') as save_file:\n",
    "            pickle.dump(self, save_file)\n",
    "        \n",
    "    def play(self, board):\n",
    "        if first_part(board):\n",
    "            return first_part(board)\n",
    "        if second_part(board):\n",
    "            return second_part(board)\n",
    "        else:\n",
    "            return np.where(board==0)[0][0], np.where(board==0)[1][0]\n",
    "            \n"
   ]
  },
  {
   "cell_type": "code",
   "execution_count": null,
   "metadata": {},
   "outputs": [],
   "source": []
  }
 ],
 "metadata": {
  "kernelspec": {
   "display_name": "Python 3",
   "language": "python",
   "name": "python3"
  },
  "language_info": {
   "codemirror_mode": {
    "name": "ipython",
    "version": 3
   },
   "file_extension": ".py",
   "mimetype": "text/x-python",
   "name": "python",
   "nbconvert_exporter": "python",
   "pygments_lexer": "ipython3",
   "version": "3.11.4"
  }
 },
 "nbformat": 4,
 "nbformat_minor": 2
}
